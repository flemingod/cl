{
 "cells": [
  {
   "cell_type": "markdown",
   "id": "3e24d419-dd16-44b1-aae4-b88d421783dc",
   "metadata": {},
   "source": [
    "**Perform Sentiment Analysis in the network graph using RNN.**"
   ]
  },
  {
   "cell_type": "code",
   "execution_count": null,
   "id": "f8bb5dd6-50df-48f2-860e-bcf119dc7cd8",
   "metadata": {},
   "outputs": [],
   "source": [
    "import pandas as pd\n",
    "import networkx as nx\n",
    "import matplotlib.pyplot as plt\n",
    "from sklearn.model_selection import train_test_split\n",
    "from tensorflow.keras.preprocessing.text import Tokenizer\n",
    "from tensorflow.keras.preprocessing.sequence import pad_sequences\n",
    "from tensorflow.keras.models import Sequential\n",
    "from tensorflow.keras.layers import Embedding, SimpleRNN, Dense\n",
    "\n",
    "# Load data\n",
    "nodes = pd.read_csv('nodes.csv')\n",
    "edges = pd.read_csv('edges.csv')\n",
    "labels = pd.read_csv('labels.csv')\n",
    "\n",
    "# Merge labels with node info\n",
    "data = pd.merge(nodes, labels, on='user_id')\n",
    "\n",
    "# Build graph\n",
    "G = nx.Graph()\n",
    "G.add_nodes_from(data['user_id'])\n",
    "G.add_edges_from(edges[['user_id1', 'user_id2']].values)\n",
    "\n",
    "# Draw colored subgraph\n",
    "nodes = data['user_id'][:200]\n",
    "colors = data[data['user_id'].isin(nodes)]['label'].map({0: 'red', 1: 'green'})\n",
    "nx.draw(G.subgraph(nodes), node_color=colors, node_size=40, with_labels=False)\n",
    "plt.show()\n",
    "\n",
    "\n",
    "# Prepare text data\n",
    "tokenizer = Tokenizer(num_words=2000, oov_token='<OOV>')\n",
    "tokenizer.fit_on_texts(data['text'])\n",
    "X = pad_sequences(tokenizer.texts_to_sequences(data['text']), maxlen=15)\n",
    "y = data['label'].values\n",
    "\n",
    "# Train-test split\n",
    "X_train, X_test, y_train, y_test = train_test_split(X, y, test_size=0.2)\n",
    "\n",
    "# RNN model\n",
    "model = Sequential([\n",
    "    Embedding(2000, 32, input_length=15),\n",
    "    SimpleRNN(32),\n",
    "    Dense(1, activation='sigmoid')\n",
    "])\n",
    "\n",
    "model.compile(optimizer='adam', loss='binary_crossentropy', metrics=['accuracy'])\n",
    "model.fit(X_train, y_train, epochs=5, validation_split=0.2)\n",
    "\n",
    "# Evaluate\n",
    "loss, acc = model.evaluate(X_test, y_test)\n",
    "print(f\"\\nTest Accuracy: {acc*100:.2f}%\")\n",
    "\n",
    "# Prediction function\n",
    "def predict_sentiment(text):\n",
    "    seq = tokenizer.texts_to_sequences([text])\n",
    "    padded = pad_sequences(seq, maxlen=15)\n",
    "    pred = model.predict(padded)[0][0]\n",
    "    return 'Positive' if pred > 0.5 else 'Negative'\n",
    "\n",
    "# Examples\n",
    "print(predict_sentiment(\"I love this!\"))\n",
    "print(predict_sentiment(\"This is awful\"))"
   ]
  }
 ],
 "metadata": {
  "kernelspec": {
   "display_name": "Python 3 (ipykernel)",
   "language": "python",
   "name": "python3"
  },
  "language_info": {
   "codemirror_mode": {
    "name": "ipython",
    "version": 3
   },
   "file_extension": ".py",
   "mimetype": "text/x-python",
   "name": "python",
   "nbconvert_exporter": "python",
   "pygments_lexer": "ipython3",
   "version": "3.12.4"
  }
 },
 "nbformat": 4,
 "nbformat_minor": 5
}
