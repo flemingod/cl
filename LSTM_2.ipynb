{
 "cells": [
  {
   "cell_type": "markdown",
   "id": "803b712c-9912-4d82-ad5f-fa6687187454",
   "metadata": {},
   "source": [
    "**Design RNN or its variant including LSTM or GRU a) Select a suitable time series\r\n",
    "dataset. Example – predict sentiments based on product reviews b) Apply for predictio**n"
   ]
  },
  {
   "cell_type": "code",
   "execution_count": null,
   "id": "03a0e594-1aa9-485b-9c31-09105b8ccbb1",
   "metadata": {},
   "outputs": [],
   "source": [
    "# Import libraries\n",
    "from tensorflow.keras.models import Sequential\n",
    "from tensorflow.keras.layers import Embedding, LSTM, Dense\n",
    "from tensorflow.keras.datasets import imdb\n",
    "from tensorflow.keras.preprocessing import sequence\n",
    "\n",
    "# Load dataset\n",
    "vocab_size = 5000\n",
    "(x_train, y_train), (x_test, y_test) = imdb.load_data(num_words=vocab_size)\n",
    "\n",
    "# Pad sequences to fixed length (400 words)\n",
    "max_words = 400\n",
    "x_train = sequence.pad_sequences(x_train, maxlen=max_words)\n",
    "x_test = sequence.pad_sequences(x_test, maxlen=max_words)\n",
    "\n",
    "# Build LSTM model\n",
    "model = Sequential([\n",
    "    Embedding(vocab_size, 32, input_length=max_words),\n",
    "    LSTM(128, activation='tanh', return_sequences=False),\n",
    "    Dense(1, activation='sigmoid')\n",
    "])\n",
    "\n",
    "\n",
    "# Compile model\n",
    "model.compile(loss='binary_crossentropy', optimizer='adam', metrics=['accuracy'])\n",
    "\n",
    "# Train model\n",
    "history = model.fit(x_train, y_train,\n",
    "                    batch_size=64,\n",
    "                    epochs=5,\n",
    "                    validation_split=0.2)\n",
    "\n",
    "# Evaluate on test data\n",
    "test_loss, test_acc = model.evaluate(x_test, y_test, verbose=0)\n",
    "print(f\"Test Accuracy: {test_acc * 100:.2f}%\")\n",
    "word_index = imdb.get_word_index()\n",
    "\n",
    "# Encode the sentence: \"movie was good\"\n",
    "review = [\"movie\", \"was\", \"good\"]\n",
    "encoded = [word_index.get(word, 0) for word in review]  # unknown words = 0\n",
    "\n",
    "# Pad to match input length\n",
    "padded_review = sequence.pad_sequences([encoded], maxlen=200)\n",
    "\n",
    "# Predict\n",
    "prediction = model.predict(padded_review)\n",
    "print(\"Predicted Sentiment:\", \"Positive\" if prediction[0][0] >= 0.5 else \"Negative\")"
   ]
  }
 ],
 "metadata": {
  "kernelspec": {
   "display_name": "Python (tf_env)",
   "language": "python",
   "name": "tf_env"
  },
  "language_info": {
   "codemirror_mode": {
    "name": "ipython",
    "version": 3
   },
   "file_extension": ".py",
   "mimetype": "text/x-python",
   "name": "python",
   "nbconvert_exporter": "python",
   "pygments_lexer": "ipython3",
   "version": "3.12.4"
  }
 },
 "nbformat": 4,
 "nbformat_minor": 5
}
