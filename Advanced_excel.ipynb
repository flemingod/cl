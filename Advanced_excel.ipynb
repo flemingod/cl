{
 "cells": [
  {
   "cell_type": "markdown",
   "id": "d0bd85c1-3284-4a2e-a75a-0900d6a73352",
   "metadata": {},
   "source": [
    "**Data Analysis and Visualization using Advanced Excel.**"
   ]
  },
  {
   "cell_type": "code",
   "execution_count": 2,
   "id": "bc0890fb-3763-4474-b4b1-589cc6ce417b",
   "metadata": {},
   "outputs": [],
   "source": [
    "import pandas as pd\n",
    "import matplotlib.pyplot as plt\n",
    "import seaborn as sns\n"
   ]
  },
  {
   "cell_type": "code",
   "execution_count": 4,
   "id": "84d35d54-89b3-4dd7-9637-6ce1417a5ae8",
   "metadata": {},
   "outputs": [],
   "source": [
    "excel_file = \"sales_data.xlsx\"\n",
    "sales_df = pd.read_excel(excel_file, sheet_name=\"Sales\")\n",
    "customers_df = pd.read_excel(excel_file, sheet_name=\"Customers\")\n",
    "products_df = pd.read_excel(excel_file, sheet_name=\"Products\")\n"
   ]
  },
  {
   "cell_type": "code",
   "execution_count": 6,
   "id": "6ca5d238-f461-4176-9008-2c1a77e179e6",
   "metadata": {},
   "outputs": [
    {
     "name": "stdout",
     "output_type": "stream",
     "text": [
      "Sales Data:\n"
     ]
    },
    {
     "data": {
      "text/html": [
       "<div>\n",
       "<style scoped>\n",
       "    .dataframe tbody tr th:only-of-type {\n",
       "        vertical-align: middle;\n",
       "    }\n",
       "\n",
       "    .dataframe tbody tr th {\n",
       "        vertical-align: top;\n",
       "    }\n",
       "\n",
       "    .dataframe thead th {\n",
       "        text-align: right;\n",
       "    }\n",
       "</style>\n",
       "<table border=\"1\" class=\"dataframe\">\n",
       "  <thead>\n",
       "    <tr style=\"text-align: right;\">\n",
       "      <th></th>\n",
       "      <th>OrderID</th>\n",
       "      <th>CustomerID</th>\n",
       "      <th>Product</th>\n",
       "      <th>Quantity</th>\n",
       "      <th>Price</th>\n",
       "      <th>OrderDate</th>\n",
       "      <th>Region</th>\n",
       "      <th>TotalRevenue</th>\n",
       "    </tr>\n",
       "  </thead>\n",
       "  <tbody>\n",
       "    <tr>\n",
       "      <th>0</th>\n",
       "      <td>1</td>\n",
       "      <td>413</td>\n",
       "      <td>Keyboard</td>\n",
       "      <td>5</td>\n",
       "      <td>1815.96</td>\n",
       "      <td>2023-01-01</td>\n",
       "      <td>South</td>\n",
       "      <td>9079.80</td>\n",
       "    </tr>\n",
       "    <tr>\n",
       "      <th>1</th>\n",
       "      <td>2</td>\n",
       "      <td>500</td>\n",
       "      <td>Smartphone</td>\n",
       "      <td>6</td>\n",
       "      <td>1497.86</td>\n",
       "      <td>2023-01-02</td>\n",
       "      <td>South</td>\n",
       "      <td>8987.16</td>\n",
       "    </tr>\n",
       "    <tr>\n",
       "      <th>2</th>\n",
       "      <td>3</td>\n",
       "      <td>925</td>\n",
       "      <td>Smartphone</td>\n",
       "      <td>1</td>\n",
       "      <td>465.75</td>\n",
       "      <td>2023-01-03</td>\n",
       "      <td>North</td>\n",
       "      <td>465.75</td>\n",
       "    </tr>\n",
       "    <tr>\n",
       "      <th>3</th>\n",
       "      <td>4</td>\n",
       "      <td>55</td>\n",
       "      <td>Monitor</td>\n",
       "      <td>3</td>\n",
       "      <td>1896.86</td>\n",
       "      <td>2023-01-04</td>\n",
       "      <td>East</td>\n",
       "      <td>5690.58</td>\n",
       "    </tr>\n",
       "    <tr>\n",
       "      <th>4</th>\n",
       "      <td>5</td>\n",
       "      <td>502</td>\n",
       "      <td>Smartphone</td>\n",
       "      <td>5</td>\n",
       "      <td>1725.11</td>\n",
       "      <td>2023-01-05</td>\n",
       "      <td>South</td>\n",
       "      <td>8625.55</td>\n",
       "    </tr>\n",
       "  </tbody>\n",
       "</table>\n",
       "</div>"
      ],
      "text/plain": [
       "   OrderID  CustomerID     Product  Quantity    Price  OrderDate Region  \\\n",
       "0        1         413    Keyboard         5  1815.96 2023-01-01  South   \n",
       "1        2         500  Smartphone         6  1497.86 2023-01-02  South   \n",
       "2        3         925  Smartphone         1   465.75 2023-01-03  North   \n",
       "3        4          55     Monitor         3  1896.86 2023-01-04   East   \n",
       "4        5         502  Smartphone         5  1725.11 2023-01-05  South   \n",
       "\n",
       "   TotalRevenue  \n",
       "0       9079.80  \n",
       "1       8987.16  \n",
       "2        465.75  \n",
       "3       5690.58  \n",
       "4       8625.55  "
      ]
     },
     "metadata": {},
     "output_type": "display_data"
    }
   ],
   "source": [
    "print(\"Sales Data:\")\n",
    "display(sales_df.head())"
   ]
  },
  {
   "cell_type": "code",
   "execution_count": 8,
   "id": "e8f86618-57f7-45f7-af8d-1ec02c8947a7",
   "metadata": {},
   "outputs": [
    {
     "name": "stdout",
     "output_type": "stream",
     "text": [
      "\n",
      "Customers Data:\n"
     ]
    },
    {
     "data": {
      "text/html": [
       "<div>\n",
       "<style scoped>\n",
       "    .dataframe tbody tr th:only-of-type {\n",
       "        vertical-align: middle;\n",
       "    }\n",
       "\n",
       "    .dataframe tbody tr th {\n",
       "        vertical-align: top;\n",
       "    }\n",
       "\n",
       "    .dataframe thead th {\n",
       "        text-align: right;\n",
       "    }\n",
       "</style>\n",
       "<table border=\"1\" class=\"dataframe\">\n",
       "  <thead>\n",
       "    <tr style=\"text-align: right;\">\n",
       "      <th></th>\n",
       "      <th>CustomerID</th>\n",
       "      <th>CustomerName</th>\n",
       "      <th>Region</th>\n",
       "    </tr>\n",
       "  </thead>\n",
       "  <tbody>\n",
       "    <tr>\n",
       "      <th>0</th>\n",
       "      <td>1</td>\n",
       "      <td>Customer_1</td>\n",
       "      <td>West</td>\n",
       "    </tr>\n",
       "    <tr>\n",
       "      <th>1</th>\n",
       "      <td>2</td>\n",
       "      <td>Customer_2</td>\n",
       "      <td>South</td>\n",
       "    </tr>\n",
       "    <tr>\n",
       "      <th>2</th>\n",
       "      <td>3</td>\n",
       "      <td>Customer_3</td>\n",
       "      <td>West</td>\n",
       "    </tr>\n",
       "    <tr>\n",
       "      <th>3</th>\n",
       "      <td>4</td>\n",
       "      <td>Customer_4</td>\n",
       "      <td>East</td>\n",
       "    </tr>\n",
       "    <tr>\n",
       "      <th>4</th>\n",
       "      <td>5</td>\n",
       "      <td>Customer_5</td>\n",
       "      <td>West</td>\n",
       "    </tr>\n",
       "  </tbody>\n",
       "</table>\n",
       "</div>"
      ],
      "text/plain": [
       "   CustomerID CustomerName Region\n",
       "0           1   Customer_1   West\n",
       "1           2   Customer_2  South\n",
       "2           3   Customer_3   West\n",
       "3           4   Customer_4   East\n",
       "4           5   Customer_5   West"
      ]
     },
     "metadata": {},
     "output_type": "display_data"
    }
   ],
   "source": [
    "print(\"\\nCustomers Data:\")\n",
    "display(customers_df.head())\n"
   ]
  },
  {
   "cell_type": "code",
   "execution_count": 10,
   "id": "55d75ad4-0911-4701-a125-1484a96f0504",
   "metadata": {},
   "outputs": [
    {
     "name": "stdout",
     "output_type": "stream",
     "text": [
      "\n",
      "Products Data:\n"
     ]
    },
    {
     "data": {
      "text/html": [
       "<div>\n",
       "<style scoped>\n",
       "    .dataframe tbody tr th:only-of-type {\n",
       "        vertical-align: middle;\n",
       "    }\n",
       "\n",
       "    .dataframe tbody tr th {\n",
       "        vertical-align: top;\n",
       "    }\n",
       "\n",
       "    .dataframe thead th {\n",
       "        text-align: right;\n",
       "    }\n",
       "</style>\n",
       "<table border=\"1\" class=\"dataframe\">\n",
       "  <thead>\n",
       "    <tr style=\"text-align: right;\">\n",
       "      <th></th>\n",
       "      <th>Product</th>\n",
       "      <th>Price</th>\n",
       "    </tr>\n",
       "  </thead>\n",
       "  <tbody>\n",
       "    <tr>\n",
       "      <th>0</th>\n",
       "      <td>Laptop</td>\n",
       "      <td>1500</td>\n",
       "    </tr>\n",
       "    <tr>\n",
       "      <th>1</th>\n",
       "      <td>Tablet</td>\n",
       "      <td>500</td>\n",
       "    </tr>\n",
       "    <tr>\n",
       "      <th>2</th>\n",
       "      <td>Smartphone</td>\n",
       "      <td>1200</td>\n",
       "    </tr>\n",
       "    <tr>\n",
       "      <th>3</th>\n",
       "      <td>Monitor</td>\n",
       "      <td>300</td>\n",
       "    </tr>\n",
       "    <tr>\n",
       "      <th>4</th>\n",
       "      <td>Keyboard</td>\n",
       "      <td>50</td>\n",
       "    </tr>\n",
       "  </tbody>\n",
       "</table>\n",
       "</div>"
      ],
      "text/plain": [
       "      Product  Price\n",
       "0      Laptop   1500\n",
       "1      Tablet    500\n",
       "2  Smartphone   1200\n",
       "3     Monitor    300\n",
       "4    Keyboard     50"
      ]
     },
     "metadata": {},
     "output_type": "display_data"
    }
   ],
   "source": [
    "print(\"\\nProducts Data:\")\n",
    "display(products_df.head())"
   ]
  },
  {
   "cell_type": "code",
   "execution_count": 12,
   "id": "a2f3d6c0-d8f7-4af8-a444-a407838e7827",
   "metadata": {},
   "outputs": [],
   "source": [
    "sales_df.drop_duplicates(inplace=True)\n"
   ]
  },
  {
   "cell_type": "code",
   "execution_count": 16,
   "id": "b136aa1c-4932-41a3-a3ef-c5689a693790",
   "metadata": {},
   "outputs": [],
   "source": [
    "sales_df[\"Quantity\"] = sales_df[\"Quantity\"].fillna(0)\n"
   ]
  },
  {
   "cell_type": "code",
   "execution_count": 18,
   "id": "9683ef67-5283-45f9-a8d2-589ed2db9fd7",
   "metadata": {},
   "outputs": [],
   "source": [
    "sales_df[\"OrderDate\"] = pd.to_datetime(sales_df[\"OrderDate\"])"
   ]
  },
  {
   "cell_type": "code",
   "execution_count": 20,
   "id": "40f994d4-61a5-4dec-b809-a30a5be9c06a",
   "metadata": {},
   "outputs": [],
   "source": [
    "# VLOOKUP: Merge Customer Name into Sales Data\n",
    "sales_df = pd.merge(sales_df, customers_df, on=\"CustomerID\", how=\"left\")"
   ]
  },
  {
   "cell_type": "code",
   "execution_count": 22,
   "id": "a145ef2f-97a5-48f3-adb7-f5ca9cf60137",
   "metadata": {},
   "outputs": [],
   "source": [
    "# VLOOKUP: Merge Product Price into Sales Data\n",
    "sales_df = pd.merge(sales_df, products_df, on=\"Product\", how=\"left\")"
   ]
  },
  {
   "cell_type": "code",
   "execution_count": 24,
   "id": "15599457-ca5c-4972-b7d0-ca39923e1238",
   "metadata": {},
   "outputs": [
    {
     "name": "stdout",
     "output_type": "stream",
     "text": [
      "\n",
      "Merged Data with Revenue:\n"
     ]
    },
    {
     "data": {
      "text/html": [
       "<div>\n",
       "<style scoped>\n",
       "    .dataframe tbody tr th:only-of-type {\n",
       "        vertical-align: middle;\n",
       "    }\n",
       "\n",
       "    .dataframe tbody tr th {\n",
       "        vertical-align: top;\n",
       "    }\n",
       "\n",
       "    .dataframe thead th {\n",
       "        text-align: right;\n",
       "    }\n",
       "</style>\n",
       "<table border=\"1\" class=\"dataframe\">\n",
       "  <thead>\n",
       "    <tr style=\"text-align: right;\">\n",
       "      <th></th>\n",
       "      <th>OrderID</th>\n",
       "      <th>CustomerID</th>\n",
       "      <th>Product</th>\n",
       "      <th>Quantity</th>\n",
       "      <th>Price_x</th>\n",
       "      <th>OrderDate</th>\n",
       "      <th>Region_x</th>\n",
       "      <th>TotalRevenue</th>\n",
       "      <th>CustomerName</th>\n",
       "      <th>Region_y</th>\n",
       "      <th>Price_y</th>\n",
       "    </tr>\n",
       "  </thead>\n",
       "  <tbody>\n",
       "    <tr>\n",
       "      <th>0</th>\n",
       "      <td>1</td>\n",
       "      <td>413</td>\n",
       "      <td>Keyboard</td>\n",
       "      <td>5</td>\n",
       "      <td>1815.96</td>\n",
       "      <td>2023-01-01</td>\n",
       "      <td>South</td>\n",
       "      <td>9079.80</td>\n",
       "      <td>Customer_413</td>\n",
       "      <td>South</td>\n",
       "      <td>50</td>\n",
       "    </tr>\n",
       "    <tr>\n",
       "      <th>1</th>\n",
       "      <td>2</td>\n",
       "      <td>500</td>\n",
       "      <td>Smartphone</td>\n",
       "      <td>6</td>\n",
       "      <td>1497.86</td>\n",
       "      <td>2023-01-02</td>\n",
       "      <td>South</td>\n",
       "      <td>8987.16</td>\n",
       "      <td>Customer_500</td>\n",
       "      <td>North</td>\n",
       "      <td>1200</td>\n",
       "    </tr>\n",
       "    <tr>\n",
       "      <th>2</th>\n",
       "      <td>3</td>\n",
       "      <td>925</td>\n",
       "      <td>Smartphone</td>\n",
       "      <td>1</td>\n",
       "      <td>465.75</td>\n",
       "      <td>2023-01-03</td>\n",
       "      <td>North</td>\n",
       "      <td>465.75</td>\n",
       "      <td>Customer_925</td>\n",
       "      <td>South</td>\n",
       "      <td>1200</td>\n",
       "    </tr>\n",
       "    <tr>\n",
       "      <th>3</th>\n",
       "      <td>4</td>\n",
       "      <td>55</td>\n",
       "      <td>Monitor</td>\n",
       "      <td>3</td>\n",
       "      <td>1896.86</td>\n",
       "      <td>2023-01-04</td>\n",
       "      <td>East</td>\n",
       "      <td>5690.58</td>\n",
       "      <td>Customer_55</td>\n",
       "      <td>South</td>\n",
       "      <td>300</td>\n",
       "    </tr>\n",
       "    <tr>\n",
       "      <th>4</th>\n",
       "      <td>5</td>\n",
       "      <td>502</td>\n",
       "      <td>Smartphone</td>\n",
       "      <td>5</td>\n",
       "      <td>1725.11</td>\n",
       "      <td>2023-01-05</td>\n",
       "      <td>South</td>\n",
       "      <td>8625.55</td>\n",
       "      <td>Customer_502</td>\n",
       "      <td>West</td>\n",
       "      <td>1200</td>\n",
       "    </tr>\n",
       "  </tbody>\n",
       "</table>\n",
       "</div>"
      ],
      "text/plain": [
       "   OrderID  CustomerID     Product  Quantity  Price_x  OrderDate Region_x  \\\n",
       "0        1         413    Keyboard         5  1815.96 2023-01-01    South   \n",
       "1        2         500  Smartphone         6  1497.86 2023-01-02    South   \n",
       "2        3         925  Smartphone         1   465.75 2023-01-03    North   \n",
       "3        4          55     Monitor         3  1896.86 2023-01-04     East   \n",
       "4        5         502  Smartphone         5  1725.11 2023-01-05    South   \n",
       "\n",
       "   TotalRevenue  CustomerName Region_y  Price_y  \n",
       "0       9079.80  Customer_413    South       50  \n",
       "1       8987.16  Customer_500    North     1200  \n",
       "2        465.75  Customer_925    South     1200  \n",
       "3       5690.58   Customer_55    South      300  \n",
       "4       8625.55  Customer_502     West     1200  "
      ]
     },
     "metadata": {},
     "output_type": "display_data"
    }
   ],
   "source": [
    "print(\"\\nMerged Data with Revenue:\")\n",
    "display(sales_df.head())\n"
   ]
  },
  {
   "cell_type": "code",
   "execution_count": 26,
   "id": "65e95599-a914-416b-91de-f2c0c4a912cf",
   "metadata": {},
   "outputs": [],
   "source": [
    "# Step 4: PivotTables (Excel-like Summarization)\n",
    "# ----------------------------------------\n",
    "\n",
    "# Create a PivotTable: Total Revenue by Region and Product\n",
    "pivot_table = pd.pivot_table(\n",
    "    sales_df,\n",
    "    values=\"TotalRevenue\",\n",
    "    index=\"Region_x\",\n",
    "    columns=\"Product\",\n",
    "    aggfunc=\"sum\",\n",
    "    fill_value=0\n",
    ")\n"
   ]
  },
  {
   "cell_type": "code",
   "execution_count": 28,
   "id": "8447a70a-c47d-4fa8-915d-fd63585e1bf8",
   "metadata": {},
   "outputs": [
    {
     "name": "stdout",
     "output_type": "stream",
     "text": [
      "\n",
      "PivotTable (Revenue by Region & Product):\n"
     ]
    },
    {
     "data": {
      "text/html": [
       "<div>\n",
       "<style scoped>\n",
       "    .dataframe tbody tr th:only-of-type {\n",
       "        vertical-align: middle;\n",
       "    }\n",
       "\n",
       "    .dataframe tbody tr th {\n",
       "        vertical-align: top;\n",
       "    }\n",
       "\n",
       "    .dataframe thead th {\n",
       "        text-align: right;\n",
       "    }\n",
       "</style>\n",
       "<table border=\"1\" class=\"dataframe\">\n",
       "  <thead>\n",
       "    <tr style=\"text-align: right;\">\n",
       "      <th>Product</th>\n",
       "      <th>Keyboard</th>\n",
       "      <th>Laptop</th>\n",
       "      <th>Monitor</th>\n",
       "      <th>Smartphone</th>\n",
       "      <th>Tablet</th>\n",
       "    </tr>\n",
       "    <tr>\n",
       "      <th>Region_x</th>\n",
       "      <th></th>\n",
       "      <th></th>\n",
       "      <th></th>\n",
       "      <th></th>\n",
       "      <th></th>\n",
       "    </tr>\n",
       "  </thead>\n",
       "  <tbody>\n",
       "    <tr>\n",
       "      <th>East</th>\n",
       "      <td>2496402.98</td>\n",
       "      <td>2325639.45</td>\n",
       "      <td>2650384.26</td>\n",
       "      <td>2561689.35</td>\n",
       "      <td>2503484.71</td>\n",
       "    </tr>\n",
       "    <tr>\n",
       "      <th>North</th>\n",
       "      <td>2621697.05</td>\n",
       "      <td>2652925.56</td>\n",
       "      <td>2241453.22</td>\n",
       "      <td>2472203.75</td>\n",
       "      <td>3010931.54</td>\n",
       "    </tr>\n",
       "    <tr>\n",
       "      <th>South</th>\n",
       "      <td>2695977.84</td>\n",
       "      <td>2626530.41</td>\n",
       "      <td>2652228.88</td>\n",
       "      <td>2726864.73</td>\n",
       "      <td>2769039.61</td>\n",
       "    </tr>\n",
       "    <tr>\n",
       "      <th>West</th>\n",
       "      <td>2786048.14</td>\n",
       "      <td>2570569.77</td>\n",
       "      <td>2888205.42</td>\n",
       "      <td>2673185.67</td>\n",
       "      <td>2591883.76</td>\n",
       "    </tr>\n",
       "  </tbody>\n",
       "</table>\n",
       "</div>"
      ],
      "text/plain": [
       "Product     Keyboard      Laptop     Monitor  Smartphone      Tablet\n",
       "Region_x                                                            \n",
       "East      2496402.98  2325639.45  2650384.26  2561689.35  2503484.71\n",
       "North     2621697.05  2652925.56  2241453.22  2472203.75  3010931.54\n",
       "South     2695977.84  2626530.41  2652228.88  2726864.73  2769039.61\n",
       "West      2786048.14  2570569.77  2888205.42  2673185.67  2591883.76"
      ]
     },
     "metadata": {},
     "output_type": "display_data"
    }
   ],
   "source": [
    "print(\"\\nPivotTable (Revenue by Region & Product):\")\n",
    "display(pivot_table)\n"
   ]
  },
  {
   "cell_type": "code",
   "execution_count": 31,
   "id": "ee0ebf6b-decf-4a6d-975a-99e5d8c63e5e",
   "metadata": {},
   "outputs": [
    {
     "name": "stderr",
     "output_type": "stream",
     "text": [
      "C:\\Users\\pande\\AppData\\Local\\Temp\\ipykernel_7908\\335110993.py:7: FutureWarning: \n",
      "\n",
      "The `ci` parameter is deprecated. Use `errorbar=None` for the same effect.\n",
      "\n",
      "  sns.barplot(data=sales_df, x=\"Product\", y=\"TotalRevenue\", estimator=sum, ci=None)\n"
     ]
    },
    {
     "data": {
      "image/png": "[encoded data removed]",
      "text/plain": [
       "<Figure size 1000x600 with 1 Axes>"
      ]
     },
     "metadata": {},
     "output_type": "display_data"
    }
   ],
   "source": [
    "# ----------------------------------------\n",
    "# Step 5: Visualization (Excel-like Charts)\n",
    "# ----------------------------------------\n",
    "\n",
    "# Bar Chart: Total Revenue by Product\n",
    "plt.figure(figsize=(10, 6))\n",
    "sns.barplot(data=sales_df, x=\"Product\", y=\"TotalRevenue\", estimator=sum, ci=None)\n",
    "plt.title(\"Total Revenue by Product (Excel-like Bar Chart)\")\n",
    "plt.xlabel(\"Product\")\n",
    "plt.ylabel(\"Total Revenue ($)\")\n",
    "plt.show()\n"
   ]
  },
  {
   "cell_type": "code",
   "execution_count": null,
   "id": "52289b73-7683-4491-bcc3-8716e91e10d5",
   "metadata": {},
   "outputs": [],
   "source": []
  }
 ],
 "metadata": {
  "kernelspec": {
   "display_name": "Python (tf_env)",
   "language": "python",
   "name": "tf_env"
  },
  "language_info": {
   "codemirror_mode": {
    "name": "ipython",
    "version": 3
   },
   "file_extension": ".py",
   "mimetype": "text/x-python",
   "name": "python",
   "nbconvert_exporter": "python",
   "pygments_lexer": "ipython3",
   "version": "3.12.4"
  }
 },
 "nbformat": 4,
 "nbformat_minor": 5
}
